{
 "cells": [
  {
   "cell_type": "code",
   "execution_count": null,
   "id": "b9cd9585",
   "metadata": {},
   "outputs": [],
   "source": [
    "movie={\"name\":{\"Avengers\": 500,\"Interstellar\":450,\"Hencock\":350},\"seats\":{\"Avengers\":150,\"Interstellar\":121,\"Hencock\":30}}\n",
    "choice = int(input(\"Please Enter A Choice:\\n1.ADD\\n2.EDIT\\n3.DELETE\\n\"))\n",
    "if choice==1:\n",
    "    a = input(\"Enter A Movie Name: \")\n",
    "    b = int(input(\"Enter It's Price: \"))\n",
    "    c =int(input(\"Enter Number Of Seats: \"))\n",
    "    movie[\"name\"][a] = b\n",
    "    movie[\"seats\"][a] = c\n",
    "    print(movie)\n",
    "    \n",
    "elif choice==2:\n",
    "    d = input(\"Enter A Movie Name want to edit: \")\n",
    "    e=int(input(\"what do you want to edit:\\n1.price\\n2.seats\\n3.both\"))\n",
    "    \n",
    "    if e==1:\n",
    "        pr=int(input(\"Enter new price: \"))\n",
    "        movie[\"name\"][d] = pr\n",
    "        print(movie)\n",
    "\n",
    "    if e==2:\n",
    "        s=int(input(\"Enter no of seats available\"))\n",
    "        movie[\"seats\"][a]=s\n",
    "        print(movie)\n",
    "    else:\n",
    "        pr=int(input(\"enter new price\"))\n",
    "        movie[\"seats\"][a]=pr\n",
    "        s=int(input(\"enter number of seats available :\"))\n",
    "        movie[\"seats\"][a]=s\n",
    "        print(movie)\n",
    "else:\n",
    "    \n",
    "    a=input(\"enter name of movie you want to delet:\")\n",
    "    movie[\"name\"].pop(a)\n",
    "    movie[\"seats\"].pop(a)\n",
    "    print (movie)\n",
    " "
   ]
  }
 ],
 "metadata": {
  "kernelspec": {
   "display_name": "Python 3",
   "language": "python",
   "name": "python3"
  },
  "language_info": {
   "codemirror_mode": {
    "name": "ipython",
    "version": 3
   },
   "file_extension": ".py",
   "mimetype": "text/x-python",
   "name": "python",
   "nbconvert_exporter": "python",
   "pygments_lexer": "ipython3",
   "version": "3.8.8"
  }
 },
 "nbformat": 4,
 "nbformat_minor": 5
}
